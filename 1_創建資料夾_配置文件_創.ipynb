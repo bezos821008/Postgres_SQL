{
 "cells": [
  {
   "cell_type": "code",
   "execution_count": 52,
   "id": "419e611b",
   "metadata": {},
   "outputs": [],
   "source": [
    "import os\n",
    "try:\n",
    "    from configparser import ConfigParser\n",
    "except ImportError:\n",
    "    from ConfigParser import ConfigParser  # ver. < 3.0"
   ]
  },
  {
   "cell_type": "code",
   "execution_count": 53,
   "id": "9978f424",
   "metadata": {},
   "outputs": [
    {
     "name": "stdout",
     "output_type": "stream",
     "text": [
      "C:\\Users\\Chiang\\SQL\\Stock_SQL\n"
     ]
    }
   ],
   "source": [
    "filepath = os.getcwd() + r'\\Stock_SQL'\n",
    "\n",
    "if os.path.exists(filepath) == False:\n",
    "    os.makedirs(\"Stock_SQL\")\n",
    "\n",
    "print(filepath)"
   ]
  },
  {
   "cell_type": "code",
   "execution_count": null,
   "id": "1338d480",
   "metadata": {},
   "outputs": [],
   "source": []
  },
  {
   "cell_type": "code",
   "execution_count": null,
   "id": "b3e7b571",
   "metadata": {},
   "outputs": [],
   "source": []
  },
  {
   "cell_type": "code",
   "execution_count": null,
   "id": "4f2345af",
   "metadata": {},
   "outputs": [],
   "source": []
  },
  {
   "cell_type": "code",
   "execution_count": 54,
   "id": "bab1d853",
   "metadata": {},
   "outputs": [
    {
     "name": "stdout",
     "output_type": "stream",
     "text": [
      "55\n"
     ]
    }
   ],
   "source": [
    "try:\n",
    "    from configparser import ConfigParser\n",
    "except ImportError:\n",
    "    from ConfigParser import ConfigParser  # ver. < 3.0\n",
    "\n",
    "config = ConfigParser()\n",
    "\n",
    "config.read('config.ini')\n",
    "\n",
    "if config.has_section('POSTGRES') == False:\n",
    "    config.add_section('POSTGRES') \n",
    "    config.set('POSTGRES', 'host', '127.0.0.1')\n",
    "    config.set('POSTGRES', 'user', 'admin')\n",
    "    config.set('POSTGRES', 'passwd', '123456')\n",
    "    config.set('POSTGRES', 'db', 'postgres')\n",
    "    \n",
    "#update existing value\n",
    "#config.set('section_a', 'string_val', 'world')\n",
    "\n",
    "# save to a file\n",
    "with open(filepath + r'\\config.ini', 'w') as configfile:\n",
    "    config.write(configfile)"
   ]
  }
 ],
 "metadata": {
  "kernelspec": {
   "display_name": "Python 3 (ipykernel)",
   "language": "python",
   "name": "python3"
  },
  "language_info": {
   "codemirror_mode": {
    "name": "ipython",
    "version": 3
   },
   "file_extension": ".py",
   "mimetype": "text/x-python",
   "name": "python",
   "nbconvert_exporter": "python",
   "pygments_lexer": "ipython3",
   "version": "3.7.11"
  }
 },
 "nbformat": 4,
 "nbformat_minor": 5
}

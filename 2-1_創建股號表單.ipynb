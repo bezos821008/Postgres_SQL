{
 "cells": [
  {
   "cell_type": "code",
   "execution_count": 4,
   "id": "dbf66c59",
   "metadata": {},
   "outputs": [],
   "source": [
    "import psycopg2\n",
    "import os"
   ]
  },
  {
   "cell_type": "code",
   "execution_count": null,
   "id": "986dd6c5",
   "metadata": {},
   "outputs": [],
   "source": []
  },
  {
   "cell_type": "code",
   "execution_count": 5,
   "id": "585f6997",
   "metadata": {},
   "outputs": [],
   "source": [
    "try:\n",
    "    connection = psycopg2.connect(user=\"admin\",\n",
    "                                  password=\"123456\",\n",
    "                                  host=\"127.0.0.1\",\n",
    "                                  port=\"5432\",\n",
    "                                  database=\"stock\")\n",
    "\n",
    "    cursor = connection.cursor()\n",
    "    create_table_query = ''' CREATE TABLE IF NOT EXISTS TSE (\n",
    "                            Stock_ID INT NOT NULL PRIMARY KEY,\n",
    "                            Stock_Name varchar(100) NOT NULL  \n",
    "                        )'''\n",
    "    cursor.execute(create_table_query)\n",
    "    connection.commit()\n",
    "    \n",
    "    create_table_query = ''' CREATE TABLE IF NOT EXISTS OTC (\n",
    "                            Stock_ID INT NOT NULL PRIMARY KEY,\n",
    "                            Stock_Name varchar(100) NOT NULL  \n",
    "                        )'''\n",
    "    cursor.execute(create_table_query)\n",
    "    connection.commit()\n",
    "\n",
    "except (Exception, Error) as error:\n",
    "    print(\"Error while connecting to PostgreSQL\", error)\n",
    "finally:\n",
    "    if connection:\n",
    "        cursor = connection.cursor()\n",
    "        cursor.close()\n",
    "        connection.close()\n"
   ]
  },
  {
   "cell_type": "code",
   "execution_count": null,
   "id": "ddf3b9d6",
   "metadata": {},
   "outputs": [],
   "source": []
  },
  {
   "cell_type": "code",
   "execution_count": null,
   "id": "5d1fa3d8",
   "metadata": {},
   "outputs": [],
   "source": []
  }
 ],
 "metadata": {
  "kernelspec": {
   "display_name": "Python 3 (ipykernel)",
   "language": "python",
   "name": "python3"
  },
  "language_info": {
   "codemirror_mode": {
    "name": "ipython",
    "version": 3
   },
   "file_extension": ".py",
   "mimetype": "text/x-python",
   "name": "python",
   "nbconvert_exporter": "python",
   "pygments_lexer": "ipython3",
   "version": "3.7.11"
  }
 },
 "nbformat": 4,
 "nbformat_minor": 5
}

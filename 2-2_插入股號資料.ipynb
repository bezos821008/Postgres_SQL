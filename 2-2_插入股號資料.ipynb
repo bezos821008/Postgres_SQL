{
 "cells": [
  {
   "cell_type": "code",
   "execution_count": 1,
   "id": "cab23172",
   "metadata": {},
   "outputs": [],
   "source": [
    "import pandas as pd\n",
    "import numpy as np\n",
    "import requests\n",
    "import os\n",
    "import psycopg2\n",
    "import configparser\n",
    "import config"
   ]
  },
  {
   "cell_type": "code",
   "execution_count": 2,
   "id": "38834ec5",
   "metadata": {},
   "outputs": [],
   "source": [
    "res2 = requests.get(\"http://isin.twse.com.tw/isin/C_public.jsp?strMode=2\")\n",
    "res4 = requests.get(\"http://isin.twse.com.tw/isin/C_public.jsp?strMode=4\")"
   ]
  },
  {
   "cell_type": "code",
   "execution_count": 3,
   "id": "6d5d680e",
   "metadata": {},
   "outputs": [],
   "source": [
    "df2 = pd.read_html(res2.text)[0]\n",
    "df4 = pd.read_html(res4.text)[0]\n",
    "\n",
    "df2.columns = df2.iloc[0]\n",
    "df4.columns = df4.iloc[0]\n",
    "\n",
    "df2 = df2.iloc[1:]\n",
    "df4 = df4.iloc[1:]\n",
    "\n",
    "df2 = df2[df2['產業別'].notna()]\n",
    "df2 = df2[df2['CFICode']=='ESVUFR']\n",
    "\n",
    "df4 = df4[df4['產業別'].notna()]\n",
    "df4 = df4[df4['CFICode']=='ESVUFR']\n",
    "\n",
    "df2_arr = np.array(df2['有價證券代號及名稱'])\n",
    "df4_arr = np.array(df4['有價證券代號及名稱'])\n",
    "\n",
    "df2_arr = np.array([df2_arr])\n",
    "df4_arr = np.array([df4_arr])"
   ]
  },
  {
   "cell_type": "code",
   "execution_count": 56,
   "id": "d20e30d8",
   "metadata": {},
   "outputs": [],
   "source": [
    "TSE_Amount = df2_arr.size\n",
    "TSE = np.empty(TSE_Amount*2,dtype = object).reshape(TSE_Amount,2)\n",
    "\n",
    "OTC_Amount = df4_arr.size\n",
    "OTC = np.empty(OTC_Amount*2,dtype = object).reshape(OTC_Amount,2)"
   ]
  },
  {
   "cell_type": "code",
   "execution_count": 57,
   "id": "ae0d8d33",
   "metadata": {},
   "outputs": [],
   "source": [
    "# for i in range(TSE_Amount):\n",
    "#     TSE[i][0]=df2_arr[0][i][:4]\n",
    "#     TSE[i][1]=df2_arr[0][i][5:]\n",
    "    \n",
    "# for i in range(OTC_Amount):\n",
    "#     OTC[i][0]=df4_arr[0][i][:4]\n",
    "#     OTC[i][1]=df4_arr[0][i][5:]"
   ]
  },
  {
   "cell_type": "code",
   "execution_count": null,
   "id": "fcabd430",
   "metadata": {},
   "outputs": [],
   "source": []
  },
  {
   "cell_type": "code",
   "execution_count": null,
   "id": "725eb48b",
   "metadata": {},
   "outputs": [],
   "source": []
  },
  {
   "cell_type": "code",
   "execution_count": 58,
   "id": "41f28329",
   "metadata": {},
   "outputs": [],
   "source": [
    "filepath = os.getcwd() + r'\\Stock_SQL'\n",
    "\n",
    "INITXT=filepath + r\"\\config.ini\"\n",
    "config = configparser.ConfigParser()\n",
    "config.read(INITXT)\n",
    "host    = config.get(\"POSTGRES\",\"host\")\n",
    "user    = config.get(\"POSTGRES\",\"user\")\n",
    "passwd  = config.get(\"POSTGRES\",\"passwd\")\n",
    "db      = config.get(\"POSTGRES\",\"db\")\n",
    "\n",
    "# list(config['POSTGRES'])\n",
    "# list(config)\n",
    "# host = config['POSTGRES']['host']"
   ]
  },
  {
   "cell_type": "code",
   "execution_count": 69,
   "id": "96a67024",
   "metadata": {},
   "outputs": [],
   "source": [
    "try:\n",
    "    connection = psycopg2.connect(user=\"admin\",\n",
    "                                  password=\"123456\",\n",
    "                                  host=\"127.0.0.1\",\n",
    "                                  port=\"5432\",\n",
    "                                  database=\"mockdb\")\n",
    "\n",
    "    cursor = connection.cursor()\n",
    "    \n",
    "    for i in range(TSE_Amount):\n",
    "        stock_id=df2_arr[0][i][:4]\n",
    "        stock_name=df2_arr[0][i][5:]\n",
    "        create_table_query = '''\n",
    "        insert into {stock_list}\n",
    "        select {stock_id},'{stock_name}'\n",
    "        where not exists(select stock_id from {TSE_OTC} where stock_id = {stock_id} );\n",
    "        '''.format(stock_list = 'tse',stock_id=stock_id,stock_name=stock_name,TSE_OTC = 'TSE')\n",
    "        cursor.execute(create_table_query)\n",
    "        connection.commit()\n",
    "    \n",
    "    for i in range(OTC_Amount):\n",
    "        stock_id=df4_arr[0][i][:4]\n",
    "        stock_name=df4_arr[0][i][5:]\n",
    "        create_table_query = '''\n",
    "        insert into {stock_list}\n",
    "        select {stock_id},'{stock_name}'\n",
    "        where not exists(select stock_id from {TSE_OTC} where stock_id = {stock_id} );\n",
    "        '''.format(stock_list = 'otc',stock_id=stock_id,stock_name=stock_name,TSE_OTC = 'OTC')\n",
    "        cursor.execute(create_table_query)\n",
    "        connection.commit()\n",
    "    \n",
    "\n",
    "except (Exception, Error) as error:\n",
    "    print(\"Error while connecting to PostgreSQL\", error)\n",
    "finally:\n",
    "    if connection:\n",
    "        cursor = connection.cursor()\n",
    "        cursor.close()\n",
    "        connection.close()"
   ]
  },
  {
   "cell_type": "code",
   "execution_count": null,
   "id": "d935cff3",
   "metadata": {},
   "outputs": [],
   "source": []
  },
  {
   "cell_type": "code",
   "execution_count": null,
   "id": "917af4d4",
   "metadata": {},
   "outputs": [],
   "source": []
  },
  {
   "cell_type": "code",
   "execution_count": null,
   "id": "d535aa65",
   "metadata": {},
   "outputs": [],
   "source": []
  },
  {
   "cell_type": "code",
   "execution_count": null,
   "id": "52212307",
   "metadata": {},
   "outputs": [],
   "source": []
  }
 ],
 "metadata": {
  "kernelspec": {
   "display_name": "Python 3 (ipykernel)",
   "language": "python",
   "name": "python3"
  },
  "language_info": {
   "codemirror_mode": {
    "name": "ipython",
    "version": 3
   },
   "file_extension": ".py",
   "mimetype": "text/x-python",
   "name": "python",
   "nbconvert_exporter": "python",
   "pygments_lexer": "ipython3",
   "version": "3.9.7"
  }
 },
 "nbformat": 4,
 "nbformat_minor": 5
}

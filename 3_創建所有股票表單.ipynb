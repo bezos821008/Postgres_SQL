{
 "cells": [
  {
   "cell_type": "code",
   "execution_count": 9,
   "id": "651a0ddf",
   "metadata": {},
   "outputs": [],
   "source": [
    "import os\n",
    "import psycopg2\n",
    "import configparser\n",
    "import config\n",
    "import numpy as np"
   ]
  },
  {
   "cell_type": "code",
   "execution_count": 90,
   "id": "4d8a8e51",
   "metadata": {},
   "outputs": [],
   "source": [
    "try:\n",
    "    connection = psycopg2.connect(user=\"admin\",\n",
    "                                  password=\"123456\",\n",
    "                                  host=\"127.0.0.1\",\n",
    "                                  port=\"5432\",\n",
    "                                  database=\"mockdb\")\n",
    "\n",
    "    cursor = connection.cursor()\n",
    " \n",
    "    create_table_query = '''CREATE TABLE IF NOT EXISTS {stock_name}\n",
    "    (Time_Date date primary key,info jsonb);'''.format(stock_name='we')\n",
    "    \n",
    "    \n",
    "    \n",
    "    cursor.execute(create_table_query)\n",
    "    connection.commit()\n",
    "    #TSE_np = np.array(cursor.fetchall())\n",
    "    \n",
    "#     create_table_query = '''insert into ttt values( '2018-01-03', '{\"id\":1,\"name\":\"小明\", \"age\":18}')'''\n",
    "#     cursor.execute(create_table_query)\n",
    "#     connection.commit()\n",
    "    \n",
    "#     ww = '''select info from ttt where info @> '{\"id\":1}'::jsonb'''\n",
    "#     cursor.execute(ww)\n",
    "#     connection.commit()\n",
    "    \n",
    "    #sssss = np.array(cursor.fetchall())\n",
    "    \n",
    "    #for i in range(TSE_np.size):\n",
    "        \n",
    "        \n",
    "    \n",
    "\n",
    "except (Exception, Error) as error:\n",
    "    print(\"Error while connecting to PostgreSQL\", error)\n",
    "finally:\n",
    "    if connection:\n",
    "        cursor = connection.cursor()\n",
    "        cursor.close()\n",
    "        connection.close()"
   ]
  },
  {
   "cell_type": "code",
   "execution_count": 55,
   "id": "50b09ae0",
   "metadata": {},
   "outputs": [
    {
     "data": {
      "text/plain": [
       "numpy.ndarray"
      ]
     },
     "execution_count": 55,
     "metadata": {},
     "output_type": "execute_result"
    }
   ],
   "source": [
    "type(sssss[0])"
   ]
  },
  {
   "cell_type": "code",
   "execution_count": 15,
   "id": "1444bc10",
   "metadata": {},
   "outputs": [],
   "source": [
    "# for i in range(TSE_np.size):\n",
    "#         create_table_query = '''\n",
    "#         insert into {stock_list}\n",
    "#         select {stock_id},'{stock_name}'\n",
    "#         where not exists(select stock_id from {TSE_OTC} where stock_id = {stock_id} );\n",
    "#         '''.format(stock_list = 'otc',stock_id=stock_id,stock_name=stock_name,TSE_OTC = 'OTC')\n",
    "#         cursor.execute(create_table_query)\n",
    "#         connection.commit()\n",
    "#     cursor.execute(create_table_query)\n",
    "#     connection.commit()"
   ]
  },
  {
   "cell_type": "code",
   "execution_count": 79,
   "id": "e6d51cb6",
   "metadata": {},
   "outputs": [
    {
     "data": {
      "text/plain": [
       "9958"
      ]
     },
     "execution_count": 79,
     "metadata": {},
     "output_type": "execute_result"
    }
   ],
   "source": [
    "int(ms[-1])"
   ]
  },
  {
   "cell_type": "code",
   "execution_count": 108,
   "id": "c368f6b4",
   "metadata": {},
   "outputs": [],
   "source": [
    "try:\n",
    "    connection = psycopg2.connect(user=\"admin\",\n",
    "                                  password=\"123456\",\n",
    "                                  host=\"127.0.0.1\",\n",
    "                                  port=\"5432\",\n",
    "                                  database=\"mockdb\")\n",
    "\n",
    "    cursor = connection.cursor()\n",
    " \n",
    "    create_table_query = '''select * from tse;'''\n",
    "    cursor.execute(create_table_query)\n",
    "    connection.commit()\n",
    "    tse_ms = cursor.fetchall()\n",
    "    np_tse_ms = np.array(tse_ms)\n",
    "    \n",
    "    create_table_query = '''select * from otc;'''\n",
    "    cursor.execute(create_table_query)\n",
    "    connection.commit()\n",
    "    otc_ms = cursor.fetchall()\n",
    "    np_otc_ms = np.array(otc_ms)\n",
    "    \n",
    "    for i in range(10):\n",
    "        stock_number = \"TSE_\" + str(np_tse_ms[i][0])\n",
    "        create_table_query = '''CREATE TABLE IF NOT EXISTS {stock_name}\n",
    "    (Time_Date date primary key,info jsonb);'''.format(stock_name=stock_number)\n",
    "        cursor.execute(create_table_query)\n",
    "        connection.commit()\n",
    "    \n",
    "    for i in range(10):\n",
    "        stock_number = \"OTC_\" + str(np_otc_ms[i][0])\n",
    "        create_table_query = '''CREATE TABLE IF NOT EXISTS {stock_name}\n",
    "    (Time_Date date primary key,info jsonb);'''.format(stock_name=stock_number)\n",
    "        cursor.execute(create_table_query)\n",
    "        connection.commit()\n",
    "    \n",
    "except (Exception, Error) as error:\n",
    "    print(\"Error while connecting to PostgreSQL\", error)\n",
    "finally:\n",
    "    if connection:\n",
    "        cursor = connection.cursor()\n",
    "        cursor.close()\n",
    "        connection.close()"
   ]
  },
  {
   "cell_type": "code",
   "execution_count": 107,
   "id": "09c52c10",
   "metadata": {},
   "outputs": [],
   "source": [
    "try:\n",
    "    connection = psycopg2.connect(user=\"admin\",\n",
    "                                  password=\"123456\",\n",
    "                                  host=\"127.0.0.1\",\n",
    "                                  port=\"5432\",\n",
    "                                  database=\"mockdb\")\n",
    "\n",
    "    cursor = connection.cursor()\n",
    " \n",
    "    create_table_query = '''select * from tse;'''\n",
    "    cursor.execute(create_table_query)\n",
    "    connection.commit()\n",
    "    tse_ms = cursor.fetchall()\n",
    "    np_tse_ms = np.array(tse_ms)\n",
    "    \n",
    "    create_table_query = '''select * from otc;'''\n",
    "    cursor.execute(create_table_query)\n",
    "    connection.commit()\n",
    "    otc_ms = cursor.fetchall()\n",
    "    np_otc_ms = np.array(otc_ms)\n",
    "    \n",
    "    for i in range(10):\n",
    "        stock_number = \"TSE_\" + str(np_tse_ms[i][0])\n",
    "        create_table_query = '''DROP TABLE IF EXISTS {stock_name};'''.format(stock_name=stock_number)\n",
    "        cursor.execute(create_table_query)\n",
    "        connection.commit()\n",
    "    \n",
    "    for i in range(10):\n",
    "        stock_number = \"OTC_\" + str(np_otc_ms[i][0])\n",
    "        create_table_query = '''DROP TABLE IF EXISTS {stock_name};'''.format(stock_name=stock_number)\n",
    "        cursor.execute(create_table_query)\n",
    "        connection.commit()\n",
    "    \n",
    "except (Exception, Error) as error:\n",
    "    print(\"Error while connecting to PostgreSQL\", error)\n",
    "finally:\n",
    "    if connection:\n",
    "        cursor = connection.cursor()\n",
    "        cursor.close()\n",
    "        connection.close()"
   ]
  },
  {
   "cell_type": "code",
   "execution_count": null,
   "id": "de2a357e",
   "metadata": {},
   "outputs": [],
   "source": []
  }
 ],
 "metadata": {
  "kernelspec": {
   "display_name": "Python 3 (ipykernel)",
   "language": "python",
   "name": "python3"
  },
  "language_info": {
   "codemirror_mode": {
    "name": "ipython",
    "version": 3
   },
   "file_extension": ".py",
   "mimetype": "text/x-python",
   "name": "python",
   "nbconvert_exporter": "python",
   "pygments_lexer": "ipython3",
   "version": "3.7.11"
  }
 },
 "nbformat": 4,
 "nbformat_minor": 5
}

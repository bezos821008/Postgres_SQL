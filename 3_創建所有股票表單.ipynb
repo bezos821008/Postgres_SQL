{
 "cells": [
  {
   "cell_type": "code",
   "execution_count": 1,
   "id": "651a0ddf",
   "metadata": {},
   "outputs": [],
   "source": [
    "import os\n",
    "import psycopg2\n",
    "import configparser\n",
    "import config\n",
    "import numpy as np"
   ]
  },
  {
   "cell_type": "code",
   "execution_count": null,
   "id": "4d8a8e51",
   "metadata": {},
   "outputs": [],
   "source": []
  },
  {
   "cell_type": "code",
   "execution_count": null,
   "id": "50b09ae0",
   "metadata": {},
   "outputs": [],
   "source": []
  },
  {
   "cell_type": "code",
   "execution_count": null,
   "id": "1444bc10",
   "metadata": {},
   "outputs": [],
   "source": []
  },
  {
   "cell_type": "code",
   "execution_count": null,
   "id": "e6d51cb6",
   "metadata": {},
   "outputs": [],
   "source": []
  },
  {
   "cell_type": "code",
   "execution_count": 8,
   "id": "c368f6b4",
   "metadata": {},
   "outputs": [],
   "source": [
    "try:\n",
    "    connection = psycopg2.connect(user=\"admin\",\n",
    "                                  password=\"123456\",\n",
    "                                  host=\"127.0.0.1\",\n",
    "                                  port=\"5432\",\n",
    "                                  database=\"stock\")\n",
    "\n",
    "    cursor = connection.cursor()\n",
    " \n",
    "    create_table_query = '''select * from tse;'''\n",
    "    cursor.execute(create_table_query)\n",
    "    connection.commit()\n",
    "    tse_ms = cursor.fetchall()\n",
    "    np_tse_ms = np.array(tse_ms)\n",
    "    \n",
    "    create_table_query = '''select * from otc;'''\n",
    "    cursor.execute(create_table_query)\n",
    "    connection.commit()\n",
    "    otc_ms = cursor.fetchall()\n",
    "    np_otc_ms = np.array(otc_ms)\n",
    "    \n",
    "    for i in range(3):\n",
    "        stock_number = \"TSE_\" + str(np_tse_ms[i][0])\n",
    "        create_table_query = '''CREATE TABLE IF NOT EXISTS {stock_name}\n",
    "    (Time_Date varchar(50) primary key,info jsonb);'''.format(stock_name=stock_number)\n",
    "        cursor.execute(create_table_query)\n",
    "        connection.commit()\n",
    "    \n",
    "    for i in range(3):\n",
    "        stock_number = \"OTC_\" + str(np_otc_ms[i][0])\n",
    "        create_table_query = '''CREATE TABLE IF NOT EXISTS {stock_name}\n",
    "    (Time_Date varchar(50) primary key,info jsonb);'''.format(stock_name=stock_number)\n",
    "        cursor.execute(create_table_query)\n",
    "        connection.commit()\n",
    "    \n",
    "except (Exception, Error) as error:\n",
    "    print(\"Error while connecting to PostgreSQL\", error)\n",
    "finally:\n",
    "    if connection:\n",
    "        cursor = connection.cursor()\n",
    "        cursor.close()\n",
    "        connection.close()"
   ]
  },
  {
   "cell_type": "code",
   "execution_count": 7,
   "id": "09c52c10",
   "metadata": {},
   "outputs": [],
   "source": [
    "try:\n",
    "    connection = psycopg2.connect(user=\"admin\",\n",
    "                                  password=\"123456\",\n",
    "                                  host=\"127.0.0.1\",\n",
    "                                  port=\"5432\",\n",
    "                                  database=\"stock\")\n",
    "\n",
    "    cursor = connection.cursor()\n",
    " \n",
    "    create_table_query = '''select * from tse;'''\n",
    "    cursor.execute(create_table_query)\n",
    "    connection.commit()\n",
    "    tse_ms = cursor.fetchall()\n",
    "    np_tse_ms = np.array(tse_ms)\n",
    "    \n",
    "    create_table_query = '''select * from otc;'''\n",
    "    cursor.execute(create_table_query)\n",
    "    connection.commit()\n",
    "    otc_ms = cursor.fetchall()\n",
    "    np_otc_ms = np.array(otc_ms)\n",
    "    \n",
    "    for i in range(3):\n",
    "        stock_number = \"TSE_\" + str(np_tse_ms[i][0])\n",
    "        create_table_query = '''DROP TABLE IF EXISTS {stock_name};'''.format(stock_name=stock_number)\n",
    "        cursor.execute(create_table_query)\n",
    "        connection.commit()\n",
    "    \n",
    "    for i in range(3):\n",
    "        stock_number = \"OTC_\" + str(np_otc_ms[i][0])\n",
    "        create_table_query = '''DROP TABLE IF EXISTS {stock_name};'''.format(stock_name=stock_number)\n",
    "        cursor.execute(create_table_query)\n",
    "        connection.commit()\n",
    "    \n",
    "except (Exception, Error) as error:\n",
    "    print(\"Error while connecting to PostgreSQL\", error)\n",
    "finally:\n",
    "    if connection:\n",
    "        cursor = connection.cursor()\n",
    "        cursor.close()\n",
    "        connection.close()"
   ]
  },
  {
   "cell_type": "code",
   "execution_count": null,
   "id": "de2a357e",
   "metadata": {},
   "outputs": [],
   "source": []
  },
  {
   "cell_type": "code",
   "execution_count": null,
   "id": "32ce9030",
   "metadata": {},
   "outputs": [],
   "source": []
  }
 ],
 "metadata": {
  "kernelspec": {
   "display_name": "Python 3 (ipykernel)",
   "language": "python",
   "name": "python3"
  },
  "language_info": {
   "codemirror_mode": {
    "name": "ipython",
    "version": 3
   },
   "file_extension": ".py",
   "mimetype": "text/x-python",
   "name": "python",
   "nbconvert_exporter": "python",
   "pygments_lexer": "ipython3",
   "version": "3.7.11"
  }
 },
 "nbformat": 4,
 "nbformat_minor": 5
}

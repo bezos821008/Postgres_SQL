{
 "cells": [
  {
   "cell_type": "code",
   "execution_count": 1,
   "id": "359494a1",
   "metadata": {},
   "outputs": [],
   "source": [
    "import os\n",
    "import psycopg2\n",
    "import configparser\n",
    "import pandas as pd\n",
    "import numpy as np\n",
    "import config\n",
    "import json\n",
    "\n",
    "import shioaji as sj\n",
    "import time\n",
    "import datetime"
   ]
  },
  {
   "cell_type": "code",
   "execution_count": 2,
   "id": "8761b530",
   "metadata": {},
   "outputs": [],
   "source": [
    "\n",
    "filepath = os.getcwd() + r'\\Stock_SQL'\n",
    "\n",
    "INITXT=filepath + r\"\\config.ini\"\n",
    "config = configparser.ConfigParser()\n",
    "config.read(INITXT)\n",
    "host    = config.get(\"POSTGRES\",\"host\")\n",
    "user    = config.get(\"POSTGRES\",\"user\")\n",
    "passwd  = config.get(\"POSTGRES\",\"passwd\")\n",
    "db      = config.get(\"POSTGRES\",\"db\")\n",
    "\n",
    "# list(config['POSTGRES'])\n",
    "# list(config)\n",
    "# host = config['POSTGRES']['host']"
   ]
  },
  {
   "cell_type": "code",
   "execution_count": 3,
   "id": "415cecc5",
   "metadata": {},
   "outputs": [
    {
     "name": "stdout",
     "output_type": "stream",
     "text": [
      "Response Code: 0 | Event Code: 0 | Info: host '203.66.91.161:80', hostname '203.66.91.161:80' IP 203.66.91.161:80 (host 1 of 1) (host connection attempt 1 of 1) (total connection attempt 1 of 1) | Event: Session up\n"
     ]
    },
    {
     "data": {
      "text/plain": [
       "[StockAccount(person_id='M122548082', broker_id='9A9W', account_id='0351577', signed=True, username='江晉毅\\u3000\\u3000')]"
      ]
     },
     "execution_count": 3,
     "metadata": {},
     "output_type": "execute_result"
    }
   ],
   "source": [
    "api = sj.Shioaji()\n",
    "\n",
    "api.login(\n",
    "        person_id='M122548082',\n",
    "        passwd='Rs781023'\n",
    ")"
   ]
  },
  {
   "cell_type": "code",
   "execution_count": 6,
   "id": "7e1adb31",
   "metadata": {},
   "outputs": [],
   "source": [
    "def Json_DT(stock_number,Date):\n",
    "    Stock_API = api.Contracts.Stocks[stock_number]\n",
    "    Tick = api.ticks(Stock_API,Date)\n",
    "    Tick_Data_DF = pd.DataFrame({**Tick})\n",
    "    Tick_Data_DF.ts = pd.to_datetime(Tick_Data_DF.ts)\n",
    "    \n",
    "    Tick_Data_DF = Tick_Data_DF[['close','tick_type','volume']]\n",
    "    \n",
    "    Tick_Data_DF['outer_buy'] = 0\n",
    "    Tick_Data_DF['inner_sell'] = 0\n",
    "    Tick_Data_DF['middle_price'] = 0\n",
    "    \n",
    "    Tick_Data_DF['middle_price'] = np.where(Tick_Data_DF['tick_type']==0,Tick_Data_DF['volume'],0)\n",
    "    Tick_Data_DF['outer_buy'] = np.where(Tick_Data_DF['tick_type']==1,Tick_Data_DF['volume'],0)\n",
    "    Tick_Data_DF['inner_sell'] = np.where(Tick_Data_DF['tick_type']==2,Tick_Data_DF['volume'],0)\n",
    "    \n",
    "    Tick_Data_DF = Tick_Data_DF[['close','volume','outer_buy','inner_sell','middle_price']]\n",
    "    \n",
    "    Tick_Data_DF = Tick_Data_DF.groupby('close').sum().sort_index(ascending=False)\n",
    "    \n",
    "    Tick_Data_DF = Tick_Data_DF.to_json(orient='split')\n",
    "    Tick_Data_DF = {'Data_Date':Date,\"Data_Detail\":Tick_Data_DF}\n",
    "    \n",
    "    Tick_Data_DF = json.dumps(Tick_Data_DF,indent=4) \n",
    "\n",
    "    return(Tick_Data_DF)"
   ]
  },
  {
   "cell_type": "code",
   "execution_count": 7,
   "id": "68ec0a7b",
   "metadata": {},
   "outputs": [
    {
     "name": "stdout",
     "output_type": "stream",
     "text": [
      "PostgreSQL connection is closed\n"
     ]
    }
   ],
   "source": [
    "try:\n",
    "    connection = psycopg2.connect(user=user,\n",
    "                              password=passwd,\n",
    "                              host=host,\n",
    "                              port=\"5432\",\n",
    "                              database='stock')\n",
    "\n",
    "    cursor = connection.cursor()\n",
    "\n",
    "    All_Table_SQL_Message  = ''' select * from pg_tables where schemaname='public'; '''\n",
    "\n",
    "    SQL_Execute  = cursor.execute(All_Table_SQL_Message)\n",
    "    \n",
    "    All_Table_List = np.array(cursor.fetchall())\n",
    "    \n",
    "    All_Table_List = All_Table_List[:,1]\n",
    "    \n",
    "    All_Table_List = np.delete(All_Table_List,np.argwhere(All_Table_List=='tse'))\n",
    "    All_Table_List = np.delete(All_Table_List,np.argwhere(All_Table_List=='otc'))\n",
    "    All_Table_List = np.delete(All_Table_List,np.argwhere(All_Table_List=='time_list'))\n",
    "    \n",
    "    #######################################################\n",
    "    \n",
    "    Time_List_SQL_Message  = ''' select * from time_list; '''\n",
    "    \n",
    "    SQL_Execute  = cursor.execute(Time_List_SQL_Message)\n",
    "    \n",
    "    Time_List = np.array(cursor.fetchall())\n",
    "    \n",
    "except (Exception, Error) as error:\n",
    "    print(\"Error while connecting to PostgreSQL\", error)\n",
    "finally:\n",
    "    if connection:\n",
    "        cursor = connection.cursor()\n",
    "        cursor.close()\n",
    "        connection.close()\n",
    "        print(\"PostgreSQL connection is closed\")"
   ]
  },
  {
   "cell_type": "code",
   "execution_count": null,
   "id": "d2953768",
   "metadata": {},
   "outputs": [],
   "source": []
  },
  {
   "cell_type": "code",
   "execution_count": null,
   "id": "d96a1564",
   "metadata": {},
   "outputs": [],
   "source": []
  },
  {
   "cell_type": "code",
   "execution_count": null,
   "id": "ea97d556",
   "metadata": {},
   "outputs": [],
   "source": []
  },
  {
   "cell_type": "code",
   "execution_count": null,
   "id": "198ee381",
   "metadata": {},
   "outputs": [],
   "source": []
  },
  {
   "cell_type": "code",
   "execution_count": null,
   "id": "afb6a7ff",
   "metadata": {},
   "outputs": [],
   "source": []
  },
  {
   "cell_type": "code",
   "execution_count": null,
   "id": "8a47b93f",
   "metadata": {},
   "outputs": [],
   "source": []
  },
  {
   "cell_type": "code",
   "execution_count": null,
   "id": "82d37e70",
   "metadata": {},
   "outputs": [],
   "source": []
  },
  {
   "cell_type": "code",
   "execution_count": null,
   "id": "eab3fda5",
   "metadata": {},
   "outputs": [],
   "source": []
  },
  {
   "cell_type": "code",
   "execution_count": 8,
   "id": "d5d58212",
   "metadata": {},
   "outputs": [
    {
     "name": "stdout",
     "output_type": "stream",
     "text": [
      " insert into tse_1103 values ('2021-12-28','{\n",
      "    \"Data_Date\": \"2021-12-28\",\n",
      "    \"Data_Detail\": \"{\\\"columns\\\":[\\\"volume\\\",\\\"outer_buy\\\",\\\"inner_sell\\\",\\\"middle_price\\\"],\\\"index\\\":[20.7,20.65,20.6,20.55,20.5],\\\"data\\\":[[75,59,16,0],[149,104,45,0],[66,17,49,0],[107,73,34,0],[101,0,91,10]]}\"\n",
      "}'),('2021-12-29','{\n",
      "    \"Data_Date\": \"2021-12-29\",\n",
      "    \"Data_Detail\": \"{\\\"columns\\\":[\\\"volume\\\",\\\"outer_buy\\\",\\\"inner_sell\\\",\\\"middle_price\\\"],\\\"index\\\":[20.85,20.8,20.75,20.7],\\\"data\\\":[[42,42,0,0],[70,69,1,0],[268,209,59,0],[52,0,48,4]]}\"\n",
      "}'),('2021-12-30','{\n",
      "    \"Data_Date\": \"2021-12-30\",\n",
      "    \"Data_Detail\": \"{\\\"columns\\\":[\\\"volume\\\",\\\"outer_buy\\\",\\\"inner_sell\\\",\\\"middle_price\\\"],\\\"index\\\":[20.8,20.75,20.7,20.65],\\\"data\\\":[[19,0,19,0],[190,131,59,0],[152,12,140,0],[13,0,13,0]]}\"\n",
      "}'),('2021-12-31','{\n",
      "    \"Data_Date\": \"2021-12-31\",\n",
      "    \"Data_Detail\": \"{\\\"columns\\\":[\\\"volume\\\",\\\"outer_buy\\\",\\\"inner_sell\\\",\\\"middle_price\\\"],\\\"index\\\":[],\\\"data\\\":[]}\"\n",
      "}');\n",
      " insert into otc_1240 values ('2021-12-28','{\n",
      "    \"Data_Date\": \"2021-12-28\",\n",
      "    \"Data_Detail\": \"{\\\"columns\\\":[\\\"volume\\\",\\\"outer_buy\\\",\\\"inner_sell\\\",\\\"middle_price\\\"],\\\"index\\\":[51.6,51.5,51.3,51.2,51.1],\\\"data\\\":[[9,4,5,0],[4,3,1,0],[2,0,2,0],[3,0,3,0],[2,0,2,0]]}\"\n",
      "}'),('2021-12-29','{\n",
      "    \"Data_Date\": \"2021-12-29\",\n",
      "    \"Data_Detail\": \"{\\\"columns\\\":[\\\"volume\\\",\\\"outer_buy\\\",\\\"inner_sell\\\",\\\"middle_price\\\"],\\\"index\\\":[51.6,51.5,51.4,51.3,51.2,51.1,51.0],\\\"data\\\":[[11,11,0,0],[12,7,5,0],[2,2,0,0],[2,1,1,0],[6,0,6,0],[13,0,13,0],[27,0,27,0]]}\"\n",
      "}'),('2021-12-30','{\n",
      "    \"Data_Date\": \"2021-12-30\",\n",
      "    \"Data_Detail\": \"{\\\"columns\\\":[\\\"volume\\\",\\\"outer_buy\\\",\\\"inner_sell\\\",\\\"middle_price\\\"],\\\"index\\\":[51.5,51.4,51.2,51.1,51.0],\\\"data\\\":[[35,21,14,0],[1,1,0,0],[3,0,3,0],[6,0,6,0],[8,0,8,0]]}\"\n",
      "}'),('2021-12-31','{\n",
      "    \"Data_Date\": \"2021-12-31\",\n",
      "    \"Data_Detail\": \"{\\\"columns\\\":[\\\"volume\\\",\\\"outer_buy\\\",\\\"inner_sell\\\",\\\"middle_price\\\"],\\\"index\\\":[],\\\"data\\\":[]}\"\n",
      "}');\n",
      " insert into otc_1258 values ('2021-12-28','{\n",
      "    \"Data_Date\": \"2021-12-28\",\n",
      "    \"Data_Detail\": \"{\\\"columns\\\":[\\\"volume\\\",\\\"outer_buy\\\",\\\"inner_sell\\\",\\\"middle_price\\\"],\\\"index\\\":[19.5,19.45,19.4,19.3,19.15],\\\"data\\\":[[14,14,0,0],[2,2,0,0],[12,6,6,0],[1,0,1,0],[2,0,2,0]]}\"\n",
      "}'),('2021-12-29','{\n",
      "    \"Data_Date\": \"2021-12-29\",\n",
      "    \"Data_Detail\": \"{\\\"columns\\\":[\\\"volume\\\",\\\"outer_buy\\\",\\\"inner_sell\\\",\\\"middle_price\\\"],\\\"index\\\":[19.15],\\\"data\\\":[[1,1,0,0]]}\"\n",
      "}'),('2021-12-30','{\n",
      "    \"Data_Date\": \"2021-12-30\",\n",
      "    \"Data_Detail\": \"{\\\"columns\\\":[\\\"volume\\\",\\\"outer_buy\\\",\\\"inner_sell\\\",\\\"middle_price\\\"],\\\"index\\\":[18.8],\\\"data\\\":[[2,0,2,0]]}\"\n",
      "}'),('2021-12-31','{\n",
      "    \"Data_Date\": \"2021-12-31\",\n",
      "    \"Data_Detail\": \"{\\\"columns\\\":[\\\"volume\\\",\\\"outer_buy\\\",\\\"inner_sell\\\",\\\"middle_price\\\"],\\\"index\\\":[],\\\"data\\\":[]}\"\n",
      "}');\n",
      " insert into otc_1259 values ('2021-12-28','{\n",
      "    \"Data_Date\": \"2021-12-28\",\n",
      "    \"Data_Detail\": \"{\\\"columns\\\":[\\\"volume\\\",\\\"outer_buy\\\",\\\"inner_sell\\\",\\\"middle_price\\\"],\\\"index\\\":[],\\\"data\\\":[]}\"\n",
      "}'),('2021-12-29','{\n",
      "    \"Data_Date\": \"2021-12-29\",\n",
      "    \"Data_Detail\": \"{\\\"columns\\\":[\\\"volume\\\",\\\"outer_buy\\\",\\\"inner_sell\\\",\\\"middle_price\\\"],\\\"index\\\":[68.9],\\\"data\\\":[[1,0,1,0]]}\"\n",
      "}'),('2021-12-30','{\n",
      "    \"Data_Date\": \"2021-12-30\",\n",
      "    \"Data_Detail\": \"{\\\"columns\\\":[\\\"volume\\\",\\\"outer_buy\\\",\\\"inner_sell\\\",\\\"middle_price\\\"],\\\"index\\\":[68.9,68.6,68.5,68.4],\\\"data\\\":[[1,1,0,0],[2,1,1,0],[1,0,1,0],[1,0,1,0]]}\"\n",
      "}'),('2021-12-31','{\n",
      "    \"Data_Date\": \"2021-12-31\",\n",
      "    \"Data_Detail\": \"{\\\"columns\\\":[\\\"volume\\\",\\\"outer_buy\\\",\\\"inner_sell\\\",\\\"middle_price\\\"],\\\"index\\\":[],\\\"data\\\":[]}\"\n",
      "}');\n",
      " insert into tse_1101 values ('2021-12-28','{\n",
      "    \"Data_Date\": \"2021-12-28\",\n",
      "    \"Data_Detail\": \"{\\\"columns\\\":[\\\"volume\\\",\\\"outer_buy\\\",\\\"inner_sell\\\",\\\"middle_price\\\"],\\\"index\\\":[48.15,48.1,48.05,48.0,47.95],\\\"data\\\":[[1457,1457,0,0],[1315,931,328,56],[2140,912,1228,0],[2458,1075,1383,0],[407,0,407,0]]}\"\n",
      "}'),('2021-12-29','{\n",
      "    \"Data_Date\": \"2021-12-29\",\n",
      "    \"Data_Detail\": \"{\\\"columns\\\":[\\\"volume\\\",\\\"outer_buy\\\",\\\"inner_sell\\\",\\\"middle_price\\\"],\\\"index\\\":[48.25,48.2,48.15,48.1,48.05],\\\"data\\\":[[71,71,0,0],[416,286,130,0],[1546,1200,300,46],[3104,289,2815,0],[172,0,172,0]]}\"\n",
      "}'),('2021-12-30','{\n",
      "    \"Data_Date\": \"2021-12-30\",\n",
      "    \"Data_Detail\": \"{\\\"columns\\\":[\\\"volume\\\",\\\"outer_buy\\\",\\\"inner_sell\\\",\\\"middle_price\\\"],\\\"index\\\":[48.2,48.15,48.1,48.05,48.0],\\\"data\\\":[[25,25,0,0],[668,364,252,52],[1830,769,1061,0],[720,54,666,0],[1373,0,1373,0]]}\"\n",
      "}'),('2021-12-31','{\n",
      "    \"Data_Date\": \"2021-12-31\",\n",
      "    \"Data_Detail\": \"{\\\"columns\\\":[\\\"volume\\\",\\\"outer_buy\\\",\\\"inner_sell\\\",\\\"middle_price\\\"],\\\"index\\\":[],\\\"data\\\":[]}\"\n",
      "}');\n",
      " insert into tse_1102 values ('2021-12-28','{\n",
      "    \"Data_Date\": \"2021-12-28\",\n",
      "    \"Data_Detail\": \"{\\\"columns\\\":[\\\"volume\\\",\\\"outer_buy\\\",\\\"inner_sell\\\",\\\"middle_price\\\"],\\\"index\\\":[44.25,44.2,44.15,44.1,44.05],\\\"data\\\":[[49,39,10,0],[581,527,54,0],[476,402,74,0],[732,318,414,0],[322,0,322,0]]}\"\n",
      "}'),('2021-12-29','{\n",
      "    \"Data_Date\": \"2021-12-29\",\n",
      "    \"Data_Detail\": \"{\\\"columns\\\":[\\\"volume\\\",\\\"outer_buy\\\",\\\"inner_sell\\\",\\\"middle_price\\\"],\\\"index\\\":[44.3,44.25,44.2,44.15,44.1],\\\"data\\\":[[134,134,0,0],[894,654,240,0],[945,377,568,0],[233,1,232,0],[3,0,3,0]]}\"\n",
      "}'),('2021-12-30','{\n",
      "    \"Data_Date\": \"2021-12-30\",\n",
      "    \"Data_Detail\": \"{\\\"columns\\\":[\\\"volume\\\",\\\"outer_buy\\\",\\\"inner_sell\\\",\\\"middle_price\\\"],\\\"index\\\":[44.35,44.3,44.25,44.2,44.15],\\\"data\\\":[[1,1,0,0],[1114,1081,33,0],[979,545,434,0],[487,14,473,0],[57,0,57,0]]}\"\n",
      "}'),('2021-12-31','{\n",
      "    \"Data_Date\": \"2021-12-31\",\n",
      "    \"Data_Detail\": \"{\\\"columns\\\":[\\\"volume\\\",\\\"outer_buy\\\",\\\"inner_sell\\\",\\\"middle_price\\\"],\\\"index\\\":[],\\\"data\\\":[]}\"\n",
      "}');\n",
      "PostgreSQL connection is closed\n"
     ]
    }
   ],
   "source": [
    "try:\n",
    "    connection = psycopg2.connect(user=user,\n",
    "                              password=passwd,\n",
    "                              host=host,\n",
    "                              port=\"5432\",\n",
    "                              database='stock')\n",
    "\n",
    "    cursor = connection.cursor()\n",
    "    \n",
    "    for i in range(All_Table_List.shape[0]):\n",
    "        \n",
    "        Stock_Number = str(All_Table_List[i][4:])\n",
    "        \n",
    "        All_Table_SQL_Message  = ''' select time_date from {}; '''.format(All_Table_List[i])\n",
    "\n",
    "        SQL_Execute  = cursor.execute(All_Table_SQL_Message)\n",
    "    \n",
    "        Table_Data = np.array(cursor.fetchall())\n",
    "        \n",
    "        Missing_Data = np.setdiff1d(Time_List,Table_Data)\n",
    "        \n",
    "        ########################################\n",
    "        \n",
    "        Json_Data = np.array([])\n",
    "        \n",
    "        for x in range(Missing_Data.shape[0]):\n",
    "            \n",
    "            json_time = str(Missing_Data[x])\n",
    "            \n",
    "            json_data = Json_DT(Stock_Number,json_time)\n",
    "  \n",
    "            json_time_data = np.array([Missing_Data[x],json_data])\n",
    "            \n",
    "            Json_Data = np.append(Json_Data,json_time_data)\n",
    "            \n",
    "        Json_Data = Json_Data.reshape(Missing_Data.shape[0],2)\n",
    "\n",
    "        ########################################\n",
    "\n",
    "        Insert_SQL_Message  = ''' insert into {} values '''.format(All_Table_List[i])\n",
    "        \n",
    "        for x in range(Json_Data.shape[0]):\n",
    "            Insert_SQL_Message = Insert_SQL_Message + '''('{}','{}'),'''.format(str(Json_Data[x][0]),Json_Data[x][1])\n",
    "            \n",
    "        Insert_SQL_Message = Insert_SQL_Message[:-1]+';'\n",
    "        SQL_Execute  = cursor.execute(Insert_SQL_Message)\n",
    "        connection.commit()\n",
    "        print(Insert_SQL_Message)\n",
    "\n",
    "except (Exception, Error) as error:\n",
    "    print(\"Error while connecting to PostgreSQL\", error)\n",
    "finally:\n",
    "    if connection:\n",
    "        cursor = connection.cursor()\n",
    "        cursor.close()\n",
    "        connection.close()\n",
    "        print(\"PostgreSQL connection is closed\")"
   ]
  },
  {
   "cell_type": "code",
   "execution_count": null,
   "id": "40c34d70",
   "metadata": {
    "scrolled": true
   },
   "outputs": [],
   "source": []
  },
  {
   "cell_type": "code",
   "execution_count": null,
   "id": "6d60eb70",
   "metadata": {},
   "outputs": [],
   "source": []
  },
  {
   "cell_type": "code",
   "execution_count": null,
   "id": "f399d7f7",
   "metadata": {},
   "outputs": [],
   "source": []
  },
  {
   "cell_type": "code",
   "execution_count": null,
   "id": "36adbd38",
   "metadata": {},
   "outputs": [],
   "source": []
  },
  {
   "cell_type": "code",
   "execution_count": null,
   "id": "688acbc0",
   "metadata": {},
   "outputs": [],
   "source": []
  },
  {
   "cell_type": "code",
   "execution_count": null,
   "id": "325fba96",
   "metadata": {},
   "outputs": [],
   "source": []
  }
 ],
 "metadata": {
  "kernelspec": {
   "display_name": "Python 3 (ipykernel)",
   "language": "python",
   "name": "python3"
  },
  "language_info": {
   "codemirror_mode": {
    "name": "ipython",
    "version": 3
   },
   "file_extension": ".py",
   "mimetype": "text/x-python",
   "name": "python",
   "nbconvert_exporter": "python",
   "pygments_lexer": "ipython3",
   "version": "3.7.11"
  }
 },
 "nbformat": 4,
 "nbformat_minor": 5
}
